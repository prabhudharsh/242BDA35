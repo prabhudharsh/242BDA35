{
 "cells": [
  {
   "cell_type": "markdown",
   "metadata": {},
   "source": [
    "# Practice: Questions for understanding recurssion\n",
    "\n",
    "Table of contents:\n",
    "\n",
    "- [1. Computing the factorial of a given number using recursion](#1-computing-the-factorial-of-a-given-number-using-recursion)\n",
    "- [2. Checking if a string is a palindrome or not](#2-checking-if-a-string-is-a-palindrome-or-not)\n",
    "- [3. Compute the power of a number](#3-compute-the-power-of-a-number)\n",
    "- [4. Counting the number of vowels in a given string](#4-counting-the-number-of-vowels-in-a-given-string)\n",
    "- [5. Compute sum of n natural numbers](#5-compute-sum-of-n-natural-numbers)"
   ]
  },
  {
   "cell_type": "markdown",
   "metadata": {},
   "source": [
    "## 1. Computing the factorial of a given number using recursion"
   ]
  },
  {
   "cell_type": "code",
   "execution_count": 1,
   "metadata": {},
   "outputs": [],
   "source": [
    "def factorial(n:int):\n",
    "    \"\"\"\n",
    "        Computes the factorial of a given number using recursion.\n",
    "        1. n - int - The number for the factorial of a given number.\n",
    "    \"\"\"\n",
    "    if n <= 1:\n",
    "        return 1\n",
    "    else:\n",
    "        return n*factorial(n-1)"
   ]
  },
  {
   "cell_type": "code",
   "execution_count": 2,
   "metadata": {},
   "outputs": [
    {
     "data": {
      "text/plain": [
       "3628800"
      ]
     },
     "execution_count": 2,
     "metadata": {},
     "output_type": "execute_result"
    }
   ],
   "source": [
    "factorial(n=10)"
   ]
  },
  {
   "cell_type": "markdown",
   "metadata": {},
   "source": [
    "## 2. Checking if a string is a palindrome or not"
   ]
  },
  {
   "cell_type": "code",
   "execution_count": 3,
   "metadata": {},
   "outputs": [],
   "source": [
    "def is_palindrome(input_str: str):\n",
    "    \"\"\"\n",
    "        Checks if a string is a palindrome or not using recursion.\n",
    "    \"\"\"\n",
    "    if len(input_str) == 0:\n",
    "        return True\n",
    "    if input_str[0] != input_str[-1]:\n",
    "        return False\n",
    "    return is_palindrome(input_str[1:-1])\n"
   ]
  },
  {
   "cell_type": "code",
   "execution_count": 4,
   "metadata": {},
   "outputs": [
    {
     "name": "stdout",
     "output_type": "stream",
     "text": [
      "True\n",
      "True\n",
      "False\n"
     ]
    }
   ],
   "source": [
    "print(is_palindrome(input_string=\"mom\"))\n",
    "print(is_palindrome(input_string=\"radar\"))\n",
    "print(is_palindrome(input_string=\"aman\"))"
   ]
  },
  {
   "cell_type": "markdown",
   "metadata": {},
   "source": [
    "## 3. Compute the power of a number"
   ]
  },
  {
   "cell_type": "code",
   "execution_count": 5,
   "metadata": {},
   "outputs": [],
   "source": [
    "def compute_power(x:int, y:int):\n",
    "    \"\"\"\n",
    "        Computes the power of a number using recursion.\n",
    "        1. x - int - The number that acts as a base.\n",
    "        2. y - int - The power of the number.\n",
    "    \"\"\"\n",
    "    if y == 1:\n",
    "        return x\n",
    "    else:\n",
    "        x = x*x\n",
    "        y = y-1\n",
    "        return compute_power(x=x, y=y)"
   ]
  },
  {
   "cell_type": "code",
   "execution_count": 6,
   "metadata": {},
   "outputs": [
    {
     "name": "stdout",
     "output_type": "stream",
     "text": [
      "4\n",
      "144\n"
     ]
    }
   ],
   "source": [
    "print(compute_power(2, 2))\n",
    "print(compute_power(12, 2))"
   ]
  },
  {
   "cell_type": "markdown",
   "metadata": {},
   "source": [
    "## 4. Counting the number of vowels in a given string:"
   ]
  },
  {
   "cell_type": "code",
   "execution_count": 13,
   "metadata": {},
   "outputs": [],
   "source": [
    "def count_vowels(input_str:str, vowel_counter=0):\n",
    "    \"\"\"\n",
    "        Counting the number of vowels in a given input string using recursion.\n",
    "    \"\"\"\n",
    "    if len(input_str) == 1:\n",
    "        return vowel_counter\n",
    "    vowels = \"aeiouAEIOU\"\n",
    "    if input_str[0] in vowels:\n",
    "        vowel_counter = vowel_counter + 1\n",
    "    return count_vowels(input_str=input_str[1:], vowel_counter=vowel_counter)"
   ]
  },
  {
   "cell_type": "code",
   "execution_count": 15,
   "metadata": {},
   "outputs": [
    {
     "data": {
      "text/plain": [
       "11"
      ]
     },
     "execution_count": 15,
     "metadata": {},
     "output_type": "execute_result"
    }
   ],
   "source": [
    "count_vowels(input_str=\"The quick brown fox jumps over the lazy dog\", vowel_counter=0)"
   ]
  },
  {
   "cell_type": "markdown",
   "metadata": {},
   "source": [
    "## 5. Compute sum of n natural numbers"
   ]
  },
  {
   "cell_type": "code",
   "execution_count": 16,
   "metadata": {},
   "outputs": [],
   "source": [
    "def compute_sum_of_numbers(n:int):\n",
    "    \"\"\"\n",
    "        Computes the sum of n natural numbers using recursion.\n",
    "    \"\"\"\n",
    "    if n == 0:\n",
    "        return 0\n",
    "    else:\n",
    "        return n + compute_sum_of_numbers(n=n-1)"
   ]
  },
  {
   "cell_type": "code",
   "execution_count": 17,
   "metadata": {},
   "outputs": [
    {
     "data": {
      "text/plain": [
       "55"
      ]
     },
     "execution_count": 17,
     "metadata": {},
     "output_type": "execute_result"
    }
   ],
   "source": [
    "compute_sum_of_numbers(n=10)"
   ]
  }
 ],
 "metadata": {
  "kernelspec": {
   "display_name": "base",
   "language": "python",
   "name": "python3"
  },
  "language_info": {
   "codemirror_mode": {
    "name": "ipython",
    "version": 3
   },
   "file_extension": ".py",
   "mimetype": "text/x-python",
   "name": "python",
   "nbconvert_exporter": "python",
   "pygments_lexer": "ipython3",
   "version": "3.12.2"
  }
 },
 "nbformat": 4,
 "nbformat_minor": 2
}
